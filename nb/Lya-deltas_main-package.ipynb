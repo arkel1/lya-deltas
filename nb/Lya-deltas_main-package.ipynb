{
 "cells": [
  {
   "cell_type": "code",
   "execution_count": 9,
   "metadata": {},
   "outputs": [
    {
     "name": "stdout",
     "output_type": "stream",
     "text": [
      "Desi\n",
      "Found 167 spectra files.\n",
      "\n",
      "Found 71 QSO spec. in 50 files.\n",
      "0: Loading 1 QSO spec. from file: 3\n",
      "1: Loading 1 QSO spec. from file: 8\n",
      "2: Loading 2 QSO spec. from file: 9\n",
      "3: Loading 2 QSO spec. from file: 11\n",
      "4: Loading 2 QSO spec. from file: 14\n",
      "5: Loading 1 QSO spec. from file: 32\n",
      "6: Loading 2 QSO spec. from file: 33\n",
      "7: Loading 1 QSO spec. from file: 36\n",
      "8: Loading 2 QSO spec. from file: 38\n",
      "9: Loading 1 QSO spec. from file: 40\n",
      "10: Loading 2 QSO spec. from file: 41\n",
      "11: Loading 1 QSO spec. from file: 42\n",
      "12: Loading 2 QSO spec. from file: 44\n",
      "13: Loading 1 QSO spec. from file: 46\n",
      "14: Loading 1 QSO spec. from file: 47\n",
      "15: Loading 1 QSO spec. from file: 50\n",
      "16: Loading 2 QSO spec. from file: 56\n",
      "17: Loading 2 QSO spec. from file: 58\n",
      "18: Loading 1 QSO spec. from file: 128\n",
      "19: Loading 2 QSO spec. from file: 129\n",
      "20: Loading 2 QSO spec. from file: 130\n",
      "21: Loading 1 QSO spec. from file: 131\n",
      "22: Loading 1 QSO spec. from file: 132\n",
      "23: Loading 1 QSO spec. from file: 133\n",
      "24: Loading 1 QSO spec. from file: 134\n",
      "25: Loading 2 QSO spec. from file: 135\n",
      "26: Loading 1 QSO spec. from file: 136\n",
      "27: Loading 1 QSO spec. from file: 144\n",
      "28: Loading 2 QSO spec. from file: 160\n",
      "29: Loading 1 QSO spec. from file: 1001\n",
      "30: Loading 1 QSO spec. from file: 1004\n",
      "31: Loading 2 QSO spec. from file: 1006\n",
      "32: Loading 1 QSO spec. from file: 1110\n",
      "33: Loading 2 QSO spec. from file: 1113\n",
      "34: Loading 1 QSO spec. from file: 1115\n",
      "35: Loading 2 QSO spec. from file: 1116\n",
      "36: Loading 1 QSO spec. from file: 1118\n",
      "37: Loading 1 QSO spec. from file: 1119\n",
      "38: Loading 1 QSO spec. from file: 1125\n",
      "39: Loading 1 QSO spec. from file: 1132\n",
      "40: Loading 2 QSO spec. from file: 1133\n",
      "41: Loading 2 QSO spec. from file: 1136\n",
      "42: Loading 1 QSO spec. from file: 1137\n",
      "43: Loading 2 QSO spec. from file: 1138\n",
      "44: Loading 1 QSO spec. from file: 1140\n",
      "45: Loading 2 QSO spec. from file: 1142\n",
      "46: Loading 2 QSO spec. from file: 1143\n",
      "47: Loading 1 QSO spec. from file: 1145\n",
      "48: Loading 1 QSO spec. from file: 1148\n",
      "49: Loading 1 QSO spec. from file: 1150\n",
      "Reading done.\n",
      "Done, loaded 71 QSO spec. from catalog.\n"
     ]
    }
   ],
   "source": [
    "\n",
    "import sys\n",
    "Lpath = \"/work/sfbeltranv/lya-deltas/bin/\"\n",
    "sys.path.append(Lpath)\n",
    "\n",
    "import Lya_deltas\n",
    "\n",
    "#####################################\n",
    "# Load QSO from plates (eBoss)\n",
    "### Parameters\n",
    "if 0:\n",
    "   path_drq       = '/work/sfbeltranv/DR14_mini/DR14Q_v4_4m.fits'\n",
    "   path_spec      = '/work3/desi_lya/data/eBOSS/dr15_all/spplates'\n",
    "   path_out        = '/work/sfbeltranv/output/lya-deltas'\n",
    "   cat_type       = 'eBoss'\n",
    "\n",
    "# for line correction (later)\n",
    "#path_lines     = '/work3/desi_lya/data/eBOSS/dr12_all/dr16-line-sky-mask.txt'\n",
    "else:\n",
    "# Load QSO from fibers (Desi)\n",
    "   path_drq      = '/work/sfbeltranv/DR14_mini/zcat_m.fits' \n",
    "   path_spec   = '/work3/desi_lya/mocks_quick/london/v9.0.0_small/spectra-16'\n",
    "   path_out        = '/work/sfbeltranv/output/lya-deltas'\n",
    "   cat_type       = 'Desi'\n",
    "\n",
    "\n",
    "# 2 to 4\n",
    "zmin = 3.6\n",
    "zmax = 4.\n",
    "\n",
    "lmin = 1040\n",
    "lmax = 2000\n",
    "\n",
    "# Catalog load\n",
    "if ( cat_type == 'eBoss'):\n",
    "   print(cat_type)\n",
    "   QSOloc, spectra = load_eBoss(path_drq, path_spec, zmin, zmax, lmin, lmax)\n",
    "   # writeDelta(path_out, QSOloc, spectra, 'eBoss')\n",
    "   \n",
    "elif ( cat_type == 'Desi'):\n",
    "   print(cat_type)\n",
    "   QSOloc, spectra = load_Desi(path_drq, path_spec, zmin, zmax, lmin, lmax)\n",
    "   # writeDelta(path_out, QSOloc, spectra, 'Desi')\n",
    "   \n",
    "else:\n",
    "   print('Wrong catalog type: '+cat_type)\n",
    "\n",
    "print( 'Done, loaded '+ str( len(spectra)) +' QSO spec. from catalog.'  )\n"
   ]
  },
  {
   "cell_type": "code",
   "execution_count": 11,
   "metadata": {},
   "outputs": [
    {
     "name": "stdout",
     "output_type": "stream",
     "text": [
      "INFO: Starting EMPCA\n"
     ]
    },
    {
     "name": "stderr",
     "output_type": "stream",
     "text": [
      "/home/sfbeltranv/.bins/empca.py:256: FutureWarning: `rcond` parameter will change to the default of machine precision times ``max(M, N)`` where M and N are the input matrix dimensions.\n",
      "To use the future default and silence this warning we advise to pass `rcond=None`, to keep using the old, explicitly pass `rcond=-1`.\n",
      "  x = np.linalg.lstsq(A, b)[0]\n"
     ]
    },
    {
     "name": "stdout",
     "output_type": "stream",
     "text": [
      "       iter        R2             rchi2\n",
      "EMPCA  1/10       0.02153398      0.02214285\n",
      "EMPCA  2/10       0.23942816      0.01655496\n",
      "EMPCA  3/10       0.28466800      0.01540357\n",
      "EMPCA  4/10       0.29692900      0.01511087\n",
      "EMPCA  5/10       0.27717139      0.01569350\n",
      "EMPCA  6/10       0.28695794      0.01543262\n",
      "EMPCA  7/10       0.29452011      0.01538126\n",
      "EMPCA  8/10       0.32512693      0.01445284\n",
      "EMPCA  9/10       0.30335271      0.01483981\n",
      "EMPCA 10/10       0.31289605      0.01471299\n",
      "R2: 0.3509348256660546\n"
     ]
    }
   ],
   "source": []
  },
  {
   "cell_type": "code",
   "execution_count": null,
   "metadata": {},
   "outputs": [],
   "source": []
  }
 ],
 "metadata": {
  "kernelspec": {
   "display_name": "Python 3",
   "language": "python",
   "name": "python3"
  },
  "language_info": {
   "codemirror_mode": {
    "name": "ipython",
    "version": 3
   },
   "file_extension": ".py",
   "mimetype": "text/x-python",
   "name": "python",
   "nbconvert_exporter": "python",
   "pygments_lexer": "ipython3",
   "version": "3.7.3"
  }
 },
 "nbformat": 4,
 "nbformat_minor": 2
}
